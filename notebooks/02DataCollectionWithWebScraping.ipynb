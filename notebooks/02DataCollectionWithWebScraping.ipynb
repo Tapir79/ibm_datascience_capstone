{
 "cells": [
  {
   "cell_type": "markdown",
   "metadata": {},
   "source": [
    "<center>\n",
    "    <img src=\"https://gitlab.com/ibm/skills-network/courses/placeholder101/-/raw/master/labs/module%201/images/IDSNlogo.png\" width=\"300\" alt=\"cognitiveclass.ai logo\"  />\n",
    "</center>\n"
   ]
  },
  {
   "cell_type": "markdown",
   "metadata": {},
   "source": [
    "# **Space X  Falcon 9 First Stage Landing Prediction**\n"
   ]
  },
  {
   "cell_type": "markdown",
   "metadata": {},
   "source": [
    "## Web scraping Falcon 9 and Falcon Heavy Launches Records from Wikipedia\n"
   ]
  },
  {
   "cell_type": "markdown",
   "metadata": {},
   "source": [
    "Estimated time needed: **40** minutes\n"
   ]
  },
  {
   "cell_type": "markdown",
   "metadata": {},
   "source": [
    "In this lab, you will be performing web scraping to collect Falcon 9 historical launch records from a Wikipedia page titled `List of Falcon 9 and Falcon Heavy launches`\n",
    "\n",
    "[https://en.wikipedia.org/wiki/List_of_Falcon\\_9\\_and_Falcon_Heavy_launches](https://en.wikipedia.org/wiki/List_of_Falcon\\_9\\_and_Falcon_Heavy_launches?utm_medium=Exinfluencer&utm_source=Exinfluencer&utm_content=000026UJ&utm_term=10006555&utm_id=NA-SkillsNetwork-Channel-SkillsNetworkCoursesIBMDS0321ENSkillsNetwork26802033-2021-01-01)\n"
   ]
  },
  {
   "cell_type": "markdown",
   "metadata": {},
   "source": [
    "![](https://cf-courses-data.s3.us.cloud-object-storage.appdomain.cloud/IBM-DS0321EN-SkillsNetwork/labs/module\\_1\\_L2/images/Falcon9\\_rocket_family.svg)\n"
   ]
  },
  {
   "cell_type": "markdown",
   "metadata": {},
   "source": [
    "Falcon 9 first stage will land successfully\n"
   ]
  },
  {
   "cell_type": "markdown",
   "metadata": {},
   "source": [
    "![](https://cf-courses-data.s3.us.cloud-object-storage.appdomain.cloud/IBMDeveloperSkillsNetwork-DS0701EN-SkillsNetwork/api/Images/landing\\_1.gif)\n"
   ]
  },
  {
   "cell_type": "markdown",
   "metadata": {},
   "source": [
    "Several examples of an unsuccessful landing are shown here:\n"
   ]
  },
  {
   "cell_type": "markdown",
   "metadata": {},
   "source": [
    "![](https://cf-courses-data.s3.us.cloud-object-storage.appdomain.cloud/IBMDeveloperSkillsNetwork-DS0701EN-SkillsNetwork/api/Images/crash.gif)\n"
   ]
  },
  {
   "cell_type": "markdown",
   "metadata": {},
   "source": [
    "More specifically, the launch records are stored in a HTML table shown below:\n"
   ]
  },
  {
   "cell_type": "markdown",
   "metadata": {},
   "source": [
    "![](https://cf-courses-data.s3.us.cloud-object-storage.appdomain.cloud/IBM-DS0321EN-SkillsNetwork/labs/module\\_1\\_L2/images/falcon9-launches-wiki.png)\n"
   ]
  },
  {
   "cell_type": "markdown",
   "metadata": {},
   "source": [
    "## Objectives\n",
    "\n",
    "Web scrap Falcon 9 launch records with `BeautifulSoup`:\n",
    "\n",
    "*   Extract a Falcon 9 launch records HTML table from Wikipedia\n",
    "*   Parse the table and convert it into a Pandas data frame\n"
   ]
  },
  {
   "cell_type": "markdown",
   "metadata": {},
   "source": [
    "First let's import required packages for this lab\n"
   ]
  },
  {
   "cell_type": "code",
   "execution_count": 2,
   "metadata": {},
   "outputs": [
    {
     "name": "stdout",
     "output_type": "stream",
     "text": [
      "Requirement already satisfied: beautifulsoup4 in /Users/saarapakarinen/opt/anaconda3/lib/python3.9/site-packages (4.10.0)\n",
      "Requirement already satisfied: soupsieve>1.2 in /Users/saarapakarinen/opt/anaconda3/lib/python3.9/site-packages (from beautifulsoup4) (2.2.1)\n",
      "Requirement already satisfied: requests in /Users/saarapakarinen/opt/anaconda3/lib/python3.9/site-packages (2.26.0)\n",
      "Requirement already satisfied: idna<4,>=2.5 in /Users/saarapakarinen/opt/anaconda3/lib/python3.9/site-packages (from requests) (3.2)\n",
      "Requirement already satisfied: charset-normalizer~=2.0.0 in /Users/saarapakarinen/opt/anaconda3/lib/python3.9/site-packages (from requests) (2.0.4)\n",
      "Requirement already satisfied: certifi>=2017.4.17 in /Users/saarapakarinen/opt/anaconda3/lib/python3.9/site-packages (from requests) (2021.10.8)\n",
      "Requirement already satisfied: urllib3<1.27,>=1.21.1 in /Users/saarapakarinen/opt/anaconda3/lib/python3.9/site-packages (from requests) (1.26.7)\n"
     ]
    }
   ],
   "source": [
    "!pip3 install beautifulsoup4\n",
    "!pip3 install requests"
   ]
  },
  {
   "cell_type": "code",
   "execution_count": 3,
   "metadata": {},
   "outputs": [],
   "source": [
    "import sys\n",
    "\n",
    "import requests\n",
    "from bs4 import BeautifulSoup\n",
    "import re\n",
    "import unicodedata\n",
    "import pandas as pd"
   ]
  },
  {
   "cell_type": "markdown",
   "metadata": {},
   "source": [
    "and we will provide some helper functions for you to process web scraped HTML table\n"
   ]
  },
  {
   "cell_type": "code",
   "execution_count": 4,
   "metadata": {},
   "outputs": [],
   "source": [
    "def date_time(table_cells):\n",
    "    \"\"\"\n",
    "    This function returns the data and time from the HTML  table cell\n",
    "    Input: the  element of a table data cell extracts extra row\n",
    "    \"\"\"\n",
    "    return [data_time.strip() for data_time in list(table_cells.strings)][0:2]\n",
    "\n",
    "def booster_version(table_cells):\n",
    "    \"\"\"\n",
    "    This function returns the booster version from the HTML  table cell \n",
    "    Input: the  element of a table data cell extracts extra row\n",
    "    \"\"\"\n",
    "    out=''.join([booster_version for i,booster_version in enumerate( table_cells.strings) if i%2==0][0:-1])\n",
    "    return out\n",
    "\n",
    "def landing_status(table_cells):\n",
    "    \"\"\"\n",
    "    This function returns the landing status from the HTML table cell \n",
    "    Input: the  element of a table data cell extracts extra row\n",
    "    \"\"\"\n",
    "    out=[i for i in table_cells.strings][0]\n",
    "    return out\n",
    "\n",
    "\n",
    "def get_mass(table_cells):\n",
    "    mass=unicodedata.normalize(\"NFKD\", table_cells.text).strip()\n",
    "    if mass:\n",
    "        mass.find(\"kg\")\n",
    "        new_mass=mass[0:mass.find(\"kg\")+2]\n",
    "    else:\n",
    "        new_mass=0\n",
    "    return new_mass\n",
    "\n",
    "\n",
    "def extract_column_from_header(row):\n",
    "    \"\"\"\n",
    "    This function returns the landing status from the HTML table cell \n",
    "    Input: the  element of a table data cell extracts extra row\n",
    "    \"\"\"\n",
    "    if (row.br):\n",
    "        row.br.extract()\n",
    "    if row.a:\n",
    "        row.a.extract()\n",
    "    if row.sup:\n",
    "        row.sup.extract()\n",
    "        \n",
    "    colunm_name = ' '.join(row.contents)\n",
    "    \n",
    "    # Filter the digit and empty names\n",
    "    if not(colunm_name.strip().isdigit()):\n",
    "        colunm_name = colunm_name.strip()\n",
    "        return colunm_name    \n"
   ]
  },
  {
   "cell_type": "markdown",
   "metadata": {},
   "source": [
    "To keep the lab tasks consistent, you will be asked to scrape the data from a snapshot of the  `List of Falcon 9 and Falcon Heavy launches` Wikipage updated on\n",
    "`9th June 2021`\n"
   ]
  },
  {
   "cell_type": "code",
   "execution_count": 5,
   "metadata": {},
   "outputs": [],
   "source": [
    "static_url = \"https://en.wikipedia.org/w/index.php?title=List_of_Falcon_9_and_Falcon_Heavy_launches&oldid=1027686922\""
   ]
  },
  {
   "cell_type": "markdown",
   "metadata": {},
   "source": [
    "Next, request the HTML page from the above URL and get a `response` object\n"
   ]
  },
  {
   "cell_type": "markdown",
   "metadata": {},
   "source": [
    "### TASK 1: Request the Falcon9 Launch Wiki page from its URL\n"
   ]
  },
  {
   "cell_type": "markdown",
   "metadata": {},
   "source": [
    "First, let's perform an HTTP GET method to request the Falcon9 Launch HTML page, as an HTTP response.\n"
   ]
  },
  {
   "cell_type": "code",
   "execution_count": 8,
   "metadata": {},
   "outputs": [],
   "source": [
    "# use requests.get() method with the provided static_url\n",
    "# assign the response to a object\n",
    "response = requests.get(static_url)"
   ]
  },
  {
   "cell_type": "markdown",
   "metadata": {},
   "source": [
    "Create a `BeautifulSoup` object from the HTML `response`\n"
   ]
  },
  {
   "cell_type": "code",
   "execution_count": 9,
   "metadata": {},
   "outputs": [],
   "source": [
    "# Use BeautifulSoup() to create a BeautifulSoup object from a response text content\n",
    "\n",
    "soup = BeautifulSoup(response.text , \"html.parser\")"
   ]
  },
  {
   "cell_type": "markdown",
   "metadata": {},
   "source": [
    "Print the page title to verify if the `BeautifulSoup` object was created properly\n"
   ]
  },
  {
   "cell_type": "code",
   "execution_count": 10,
   "metadata": {},
   "outputs": [
    {
     "name": "stdout",
     "output_type": "stream",
     "text": [
      "<title>List of Falcon 9 and Falcon Heavy launches - Wikipedia</title>\n"
     ]
    }
   ],
   "source": [
    "# Use soup.title attribute\n",
    "print(soup.title)"
   ]
  },
  {
   "cell_type": "markdown",
   "metadata": {},
   "source": [
    "### TASK 2: Extract all column/variable names from the HTML table header\n"
   ]
  },
  {
   "cell_type": "markdown",
   "metadata": {},
   "source": [
    "Next, we want to collect all relevant column names from the HTML table header\n"
   ]
  },
  {
   "cell_type": "markdown",
   "metadata": {},
   "source": [
    "Let's try to find all tables on the wiki page first. If you need to refresh your memory about `BeautifulSoup`, please check the external reference link towards the end of this lab\n"
   ]
  },
  {
   "cell_type": "code",
   "execution_count": 11,
   "metadata": {},
   "outputs": [],
   "source": [
    "# Use the find_all function in the BeautifulSoup object, with element type `table`\n",
    "# Assign the result to a list called `html_tables`\n",
    "html_tables=soup.find_all('table')\n",
    "#html_tables"
   ]
  },
  {
   "cell_type": "markdown",
   "metadata": {},
   "source": [
    "Starting from the third table is our target table contains the actual launch records.\n"
   ]
  },
  {
   "cell_type": "code",
   "execution_count": 12,
   "metadata": {},
   "outputs": [],
   "source": [
    "# Let's print the third table and check its content\n",
    "first_launch_table = html_tables[2]\n",
    "#print(first_launch_table)"
   ]
  },
  {
   "cell_type": "markdown",
   "metadata": {},
   "source": [
    "You should able to see the columns names embedded in the table header elements `<th>` as follows:\n"
   ]
  },
  {
   "cell_type": "markdown",
   "metadata": {},
   "source": [
    "```\n",
    "<tr>\n",
    "<th scope=\"col\">Flight No.\n",
    "</th>\n",
    "<th scope=\"col\">Date and<br/>time (<a href=\"/wiki/Coordinated_Universal_Time\" title=\"Coordinated Universal Time\">UTC</a>)\n",
    "</th>\n",
    "<th scope=\"col\"><a href=\"/wiki/List_of_Falcon_9_first-stage_boosters\" title=\"List of Falcon 9 first-stage boosters\">Version,<br/>Booster</a> <sup class=\"reference\" id=\"cite_ref-booster_11-0\"><a href=\"#cite_note-booster-11\">[b]</a></sup>\n",
    "</th>\n",
    "<th scope=\"col\">Launch site\n",
    "</th>\n",
    "<th scope=\"col\">Payload<sup class=\"reference\" id=\"cite_ref-Dragon_12-0\"><a href=\"#cite_note-Dragon-12\">[c]</a></sup>\n",
    "</th>\n",
    "<th scope=\"col\">Payload mass\n",
    "</th>\n",
    "<th scope=\"col\">Orbit\n",
    "</th>\n",
    "<th scope=\"col\">Customer\n",
    "</th>\n",
    "<th scope=\"col\">Launch<br/>outcome\n",
    "</th>\n",
    "<th scope=\"col\"><a href=\"/wiki/Falcon_9_first-stage_landing_tests\" title=\"Falcon 9 first-stage landing tests\">Booster<br/>landing</a>\n",
    "</th></tr>\n",
    "```\n"
   ]
  },
  {
   "cell_type": "markdown",
   "metadata": {},
   "source": [
    "Next, we just need to iterate through the `<th>` elements and apply the provided `extract_column_from_header()` to extract column name one by one\n"
   ]
  },
  {
   "cell_type": "code",
   "execution_count": 13,
   "metadata": {},
   "outputs": [],
   "source": [
    "\n",
    "\n",
    "column_names = []\n",
    "\n",
    "# Apply find_all() function with `th` element on first_launch_table\n",
    "# Iterate each th element and apply the provided extract_column_from_header() to get a column name\n",
    "# Append the Non-empty column name (`if name is not None and len(name) > 0`) into a list called column_names\n",
    "table_rows=first_launch_table.find_all('th')\n",
    "for i,row in enumerate(table_rows):\n",
    "    name = extract_column_from_header(row)\n",
    "    if name is not None and len(name) > 0: \n",
    "        column_names.append(name)"
   ]
  },
  {
   "cell_type": "markdown",
   "metadata": {},
   "source": [
    "Check the extracted column names\n"
   ]
  },
  {
   "cell_type": "code",
   "execution_count": 14,
   "metadata": {},
   "outputs": [
    {
     "name": "stdout",
     "output_type": "stream",
     "text": [
      "['Flight No.', 'Date and time ( )', 'Launch site', 'Payload', 'Payload mass', 'Orbit', 'Customer', 'Launch outcome']\n"
     ]
    }
   ],
   "source": [
    "print(column_names)"
   ]
  },
  {
   "cell_type": "markdown",
   "metadata": {},
   "source": [
    "## TASK 3: Create a data frame by parsing the launch HTML tables\n"
   ]
  },
  {
   "cell_type": "markdown",
   "metadata": {},
   "source": [
    "We will create an empty dictionary with keys from the extracted column names in the previous task. Later, this dictionary will be converted into a Pandas dataframe\n"
   ]
  },
  {
   "cell_type": "code",
   "execution_count": 15,
   "metadata": {},
   "outputs": [],
   "source": [
    "launch_dict= dict.fromkeys(column_names)\n",
    "\n",
    "# Remove an irrelvant column\n",
    "del launch_dict['Date and time ( )']\n",
    "\n",
    "# Let's initial the launch_dict with each value to be an empty list\n",
    "launch_dict['Flight No.'] = []\n",
    "launch_dict['Launch site'] = []\n",
    "launch_dict['Payload'] = []\n",
    "launch_dict['Payload mass'] = []\n",
    "launch_dict['Orbit'] = []\n",
    "launch_dict['Customer'] = []\n",
    "launch_dict['Launch outcome'] = []\n",
    "# Added some new columns\n",
    "launch_dict['Version Booster']=[]\n",
    "launch_dict['Booster landing']=[]\n",
    "launch_dict['Date']=[]\n",
    "launch_dict['Time']=[]"
   ]
  },
  {
   "cell_type": "markdown",
   "metadata": {},
   "source": [
    "Next, we just need to fill up the `launch_dict` with launch records extracted from table rows.\n"
   ]
  },
  {
   "cell_type": "markdown",
   "metadata": {},
   "source": [
    "Usually, HTML tables in Wiki pages are likely to contain unexpected annotations and other types of noises, such as reference links `B0004.1[8]`, missing values `N/A [e]`, inconsistent formatting, etc.\n"
   ]
  },
  {
   "cell_type": "markdown",
   "metadata": {},
   "source": [
    "To simplify the parsing process, we have provided an incomplete code snippet below to help you to fill up the `launch_dict`. Please complete the following code snippet with TODOs or you can choose to write your own logic to parse all launch tables:\n"
   ]
  },
  {
   "cell_type": "code",
   "execution_count": 16,
   "metadata": {},
   "outputs": [],
   "source": [
    "extracted_row = 0\n",
    "#Extract each table \n",
    "for table_number,table in enumerate(soup.find_all('table',\"wikitable plainrowheaders collapsible\")):\n",
    "   # get table row \n",
    "    for rows in table.find_all(\"tr\"):\n",
    "        #check to see if first table heading is as number corresponding to launch a number \n",
    "        if rows.th:\n",
    "            if rows.th.string:\n",
    "                flight_number=rows.th.string.strip()\n",
    "                flag=flight_number.isdigit()\n",
    "        else:\n",
    "            flag=False\n",
    "        #get table element \n",
    "        row=rows.find_all('td')\n",
    "        #if it is number save cells in a dictonary \n",
    "        if flag:\n",
    "            extracted_row += 1\n",
    "            # Flight Number value\n",
    "            value_list = launch_dict['Flight No.']\n",
    "            value_list.append(flight_number)\n",
    "            launch_dict['Flight No.'] = value_list\n",
    "            #print(flight_number)\n",
    "            datatimelist=date_time(row[0])\n",
    "            \n",
    "            # Date value\n",
    "            date = datatimelist[0].strip(',')\n",
    "            value_list = launch_dict['Date']\n",
    "            value_list.append(date)\n",
    "            launch_dict['Date'] = value_list\n",
    "            #print(date)\n",
    "            \n",
    "            # Time value\n",
    "            time = datatimelist[1]\n",
    "            value_list = launch_dict['Time']\n",
    "            value_list.append(time)\n",
    "            launch_dict['Time'] = value_list\n",
    "            #print(time)\n",
    "              \n",
    "            # Booster version\n",
    "            bv=booster_version(row[1])\n",
    "            if not(bv):\n",
    "                bv=row[1].a.string\n",
    "                \n",
    "            value_list = launch_dict['Version Booster']\n",
    "            value_list.append(bv)\n",
    "            launch_dict['Version Booster'] = value_list\n",
    "            #print(bv)\n",
    "            \n",
    "            # Launch Site\n",
    "            launch_site = row[2].a.string\n",
    "            value_list = launch_dict['Launch site']\n",
    "            value_list.append(launch_site)\n",
    "            launch_dict['Launch site'] = value_list\n",
    "            #print(launch_site)\n",
    "            \n",
    "            # Payload\n",
    "            payload = row[3].a.string\n",
    "            value_list = launch_dict['Payload']\n",
    "            value_list.append(payload)\n",
    "            launch_dict['Payload'] = value_list\n",
    "            #print(payload)\n",
    "            \n",
    "            # Payload Mass\n",
    "            payload_mass = get_mass(row[4])\n",
    "            value_list = launch_dict['Payload mass']\n",
    "            value_list.append(payload_mass)\n",
    "            launch_dict['Payload mass'] = value_list\n",
    "            #print(payload)\n",
    "            \n",
    "            # Orbit\n",
    "            orbit = row[5].a.string\n",
    "            value_list = launch_dict['Orbit']\n",
    "            value_list.append(orbit)\n",
    "            launch_dict['Orbit'] = value_list\n",
    "            #print(orbit)\n",
    "            \n",
    "            # Customer\n",
    "            if row[6].a is None:\n",
    "                value_list = launch_dict['Customer']\n",
    "                value_list.append('')\n",
    "                launch_dict['Customer'] = value_list\n",
    "            else:\n",
    "                customer = row[6].a.string\n",
    "                value_list = launch_dict['Customer']\n",
    "                value_list.append(customer)\n",
    "                launch_dict['Customer'] = value_list\n",
    "            #print(customer)\n",
    "            \n",
    "            # Launch outcome\n",
    "            launch_outcome = list(row[7].strings)[0]\n",
    "            value_list = launch_dict['Launch outcome']\n",
    "            value_list.append(launch_outcome)\n",
    "            launch_dict['Launch outcome'] = value_list\n",
    "            #print(launch_outcome)\n",
    "            \n",
    "            # Booster landing\n",
    "            # TODO: Append the launch_outcome into launch_dict with key `Booster landing`\n",
    "            booster_landing = landing_status(row[8])\n",
    "            value_list = launch_dict['Booster landing']\n",
    "            value_list.append(booster_landing)\n",
    "            launch_dict['Booster landing'] = value_list\n",
    "            #print(booster_landing)\n",
    "            "
   ]
  },
  {
   "cell_type": "markdown",
   "metadata": {},
   "source": [
    "After you have fill in the parsed launch record values into `launch_dict`, you can create a dataframe from it.\n"
   ]
  },
  {
   "cell_type": "code",
   "execution_count": 17,
   "metadata": {},
   "outputs": [
    {
     "data": {
      "text/html": [
       "<div>\n",
       "<style scoped>\n",
       "    .dataframe tbody tr th:only-of-type {\n",
       "        vertical-align: middle;\n",
       "    }\n",
       "\n",
       "    .dataframe tbody tr th {\n",
       "        vertical-align: top;\n",
       "    }\n",
       "\n",
       "    .dataframe thead th {\n",
       "        text-align: right;\n",
       "    }\n",
       "</style>\n",
       "<table border=\"1\" class=\"dataframe\">\n",
       "  <thead>\n",
       "    <tr style=\"text-align: right;\">\n",
       "      <th></th>\n",
       "      <th>Flight No.</th>\n",
       "      <th>Launch site</th>\n",
       "      <th>Payload</th>\n",
       "      <th>Payload mass</th>\n",
       "      <th>Orbit</th>\n",
       "      <th>Customer</th>\n",
       "      <th>Launch outcome</th>\n",
       "      <th>Version Booster</th>\n",
       "      <th>Booster landing</th>\n",
       "      <th>Date</th>\n",
       "      <th>Time</th>\n",
       "    </tr>\n",
       "  </thead>\n",
       "  <tbody>\n",
       "    <tr>\n",
       "      <th>0</th>\n",
       "      <td>1</td>\n",
       "      <td>CCAFS</td>\n",
       "      <td>Dragon Spacecraft Qualification Unit</td>\n",
       "      <td>0</td>\n",
       "      <td>LEO</td>\n",
       "      <td>SpaceX</td>\n",
       "      <td>Success\\n</td>\n",
       "      <td>F9 v1.0B0003.1</td>\n",
       "      <td>Failure</td>\n",
       "      <td>4 June 2010</td>\n",
       "      <td>18:45</td>\n",
       "    </tr>\n",
       "    <tr>\n",
       "      <th>1</th>\n",
       "      <td>2</td>\n",
       "      <td>CCAFS</td>\n",
       "      <td>Dragon</td>\n",
       "      <td>0</td>\n",
       "      <td>LEO</td>\n",
       "      <td>NASA</td>\n",
       "      <td>Success</td>\n",
       "      <td>F9 v1.0B0004.1</td>\n",
       "      <td>Failure</td>\n",
       "      <td>8 December 2010</td>\n",
       "      <td>15:43</td>\n",
       "    </tr>\n",
       "    <tr>\n",
       "      <th>2</th>\n",
       "      <td>3</td>\n",
       "      <td>CCAFS</td>\n",
       "      <td>Dragon</td>\n",
       "      <td>525 kg</td>\n",
       "      <td>LEO</td>\n",
       "      <td>NASA</td>\n",
       "      <td>Success</td>\n",
       "      <td>F9 v1.0B0005.1</td>\n",
       "      <td>No attempt\\n</td>\n",
       "      <td>22 May 2012</td>\n",
       "      <td>07:44</td>\n",
       "    </tr>\n",
       "    <tr>\n",
       "      <th>3</th>\n",
       "      <td>4</td>\n",
       "      <td>CCAFS</td>\n",
       "      <td>SpaceX CRS-1</td>\n",
       "      <td>4,700 kg</td>\n",
       "      <td>LEO</td>\n",
       "      <td>NASA</td>\n",
       "      <td>Success\\n</td>\n",
       "      <td>F9 v1.0B0006.1</td>\n",
       "      <td>No attempt</td>\n",
       "      <td>8 October 2012</td>\n",
       "      <td>00:35</td>\n",
       "    </tr>\n",
       "    <tr>\n",
       "      <th>4</th>\n",
       "      <td>5</td>\n",
       "      <td>CCAFS</td>\n",
       "      <td>SpaceX CRS-2</td>\n",
       "      <td>4,877 kg</td>\n",
       "      <td>LEO</td>\n",
       "      <td>NASA</td>\n",
       "      <td>Success\\n</td>\n",
       "      <td>F9 v1.0B0007.1</td>\n",
       "      <td>No attempt\\n</td>\n",
       "      <td>1 March 2013</td>\n",
       "      <td>15:10</td>\n",
       "    </tr>\n",
       "  </tbody>\n",
       "</table>\n",
       "</div>"
      ],
      "text/plain": [
       "  Flight No. Launch site                               Payload Payload mass  \\\n",
       "0          1       CCAFS  Dragon Spacecraft Qualification Unit            0   \n",
       "1          2       CCAFS                                Dragon            0   \n",
       "2          3       CCAFS                                Dragon       525 kg   \n",
       "3          4       CCAFS                          SpaceX CRS-1     4,700 kg   \n",
       "4          5       CCAFS                          SpaceX CRS-2     4,877 kg   \n",
       "\n",
       "  Orbit Customer Launch outcome Version Booster Booster landing  \\\n",
       "0   LEO   SpaceX      Success\\n  F9 v1.0B0003.1         Failure   \n",
       "1   LEO     NASA        Success  F9 v1.0B0004.1         Failure   \n",
       "2   LEO     NASA        Success  F9 v1.0B0005.1    No attempt\\n   \n",
       "3   LEO     NASA      Success\\n  F9 v1.0B0006.1      No attempt   \n",
       "4   LEO     NASA      Success\\n  F9 v1.0B0007.1    No attempt\\n   \n",
       "\n",
       "              Date   Time  \n",
       "0      4 June 2010  18:45  \n",
       "1  8 December 2010  15:43  \n",
       "2      22 May 2012  07:44  \n",
       "3   8 October 2012  00:35  \n",
       "4     1 March 2013  15:10  "
      ]
     },
     "execution_count": 17,
     "metadata": {},
     "output_type": "execute_result"
    }
   ],
   "source": [
    "df=pd.DataFrame(launch_dict)\n",
    "df.head()"
   ]
  },
  {
   "cell_type": "code",
   "execution_count": 18,
   "metadata": {},
   "outputs": [
    {
     "data": {
      "text/html": [
       "<a download=\"/home/wsuser/work/spacex_web_scraped.csv\" href=\"data:text/csv;base64,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\" target=\"_blank\">Download CSV file</a>"
      ],
      "text/plain": [
       "<IPython.core.display.HTML object>"
      ]
     },
     "execution_count": 18,
     "metadata": {},
     "output_type": "execute_result"
    }
   ],
   "source": [
    "df.to_csv('spacex_web_scraped.csv', index=False)\n",
    "from IPython.display import HTML\n",
    "import base64,io\n",
    "\n",
    "def create_download_link( df, title = \"Download CSV file\", filename = \"/home/wsuser/work/spacex_web_scraped.csv\"): \n",
    " csv = df.to_csv()\n",
    " b64 = base64.b64encode(csv.encode())\n",
    " payload = b64.decode()\n",
    " html = '<a download=\"{filename}\" href=\"data:text/csv;base64,{payload}\" target=\"_blank\">{title}</a>'\n",
    " html = html.format(payload=payload,title=title,filename=filename)\n",
    " return HTML(html)\n",
    "\n",
    "create_download_link(df)"
   ]
  },
  {
   "cell_type": "code",
   "execution_count": 19,
   "metadata": {},
   "outputs": [],
   "source": [
    "df.to_csv('spacex_web_scraped.csv', index=False)"
   ]
  },
  {
   "cell_type": "markdown",
   "metadata": {},
   "source": [
    "We can now export it to a <b>CSV</b> for the next section, but to make the answers consistent and in case you have difficulties finishing this lab.\n",
    "\n",
    "Following labs will be using a provided dataset to make each lab independent.\n"
   ]
  },
  {
   "cell_type": "markdown",
   "metadata": {},
   "source": [
    "## Authors\n"
   ]
  },
  {
   "cell_type": "markdown",
   "metadata": {},
   "source": [
    "<a href=\"https://www.linkedin.com/in/yan-luo-96288783/?utm_medium=Exinfluencer&utm_source=Exinfluencer&utm_content=000026UJ&utm_term=10006555&utm_id=NA-SkillsNetwork-Channel-SkillsNetworkCoursesIBMDS0321ENSkillsNetwork26802033-2021-01-01\">Yan Luo</a>\n"
   ]
  },
  {
   "cell_type": "markdown",
   "metadata": {},
   "source": [
    "<a href=\"https://www.linkedin.com/in/nayefaboutayoun/?utm_medium=Exinfluencer&utm_source=Exinfluencer&utm_content=000026UJ&utm_term=10006555&utm_id=NA-SkillsNetwork-Channel-SkillsNetworkCoursesIBMDS0321ENSkillsNetwork26802033-2021-01-01\">Nayef Abou Tayoun</a>\n"
   ]
  },
  {
   "cell_type": "markdown",
   "metadata": {},
   "source": [
    "## Change Log\n"
   ]
  },
  {
   "cell_type": "markdown",
   "metadata": {},
   "source": [
    "| Date (YYYY-MM-DD) | Version | Changed By | Change Description          |\n",
    "| ----------------- | ------- | ---------- | --------------------------- |\n",
    "| 2021-06-09        | 1.0     | Yan Luo    | Tasks updates               |\n",
    "| 2020-11-10        | 1.0     | Nayef      | Created the initial version |\n"
   ]
  },
  {
   "cell_type": "markdown",
   "metadata": {},
   "source": [
    "Copyright © 2021 IBM Corporation. All rights reserved.\n"
   ]
  }
 ],
 "metadata": {
  "kernelspec": {
   "display_name": "Python 3 (ipykernel)",
   "language": "python",
   "name": "python3"
  },
  "language_info": {
   "codemirror_mode": {
    "name": "ipython",
    "version": 3
   },
   "file_extension": ".py",
   "mimetype": "text/x-python",
   "name": "python",
   "nbconvert_exporter": "python",
   "pygments_lexer": "ipython3",
   "version": "3.9.7"
  }
 },
 "nbformat": 4,
 "nbformat_minor": 4
}
